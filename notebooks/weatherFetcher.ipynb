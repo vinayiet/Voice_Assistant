{
 "cells": [
  {
   "cell_type": "code",
   "execution_count": 1,
   "metadata": {},
   "outputs": [
    {
     "name": "stdout",
     "output_type": "stream",
     "text": [
      "Collecting requests\n",
      "  Using cached requests-2.32.3-py3-none-any.whl.metadata (4.6 kB)\n",
      "Collecting charset-normalizer<4,>=2 (from requests)\n",
      "  Downloading charset_normalizer-3.4.1-cp39-cp39-win_amd64.whl.metadata (36 kB)\n",
      "Collecting idna<4,>=2.5 (from requests)\n",
      "  Using cached idna-3.10-py3-none-any.whl.metadata (10 kB)\n",
      "Collecting urllib3<3,>=1.21.1 (from requests)\n",
      "  Using cached urllib3-2.3.0-py3-none-any.whl.metadata (6.5 kB)\n",
      "Collecting certifi>=2017.4.17 (from requests)\n",
      "  Using cached certifi-2025.1.31-py3-none-any.whl.metadata (2.5 kB)\n",
      "Using cached requests-2.32.3-py3-none-any.whl (64 kB)\n",
      "Using cached certifi-2025.1.31-py3-none-any.whl (166 kB)\n",
      "Downloading charset_normalizer-3.4.1-cp39-cp39-win_amd64.whl (102 kB)\n",
      "Using cached idna-3.10-py3-none-any.whl (70 kB)\n",
      "Using cached urllib3-2.3.0-py3-none-any.whl (128 kB)\n",
      "Installing collected packages: urllib3, idna, charset-normalizer, certifi, requests\n",
      "Successfully installed certifi-2025.1.31 charset-normalizer-3.4.1 idna-3.10 requests-2.32.3 urllib3-2.3.0\n",
      "Note: you may need to restart the kernel to use updated packages.\n"
     ]
    }
   ],
   "source": [
    "pip install requests"
   ]
  },
  {
   "cell_type": "code",
   "execution_count": 7,
   "metadata": {},
   "outputs": [],
   "source": [
    "import requests\n",
    "\n",
    "def fetch_weather(location):\n",
    "    \"\"\"\n",
    "    Fetch the weather details for a given location using Open-Meteo.\n",
    "    \"\"\"\n",
    "    geocode_url = f\"https://geocoding-api.open-meteo.com/v1/search?name={location}\"\n",
    "\n",
    "    try:\n",
    "        # Fetch latitude and longitude\n",
    "        geocode_response = requests.get(geocode_url)\n",
    "        geocode_response.raise_for_status()\n",
    "        geocode_data = geocode_response.json()\n",
    "        print(geocode_data)\n",
    "        if \"results\" not in geocode_data or len(geocode_data[\"results\"]) == 0:\n",
    "            return f\"Sorry, I couldn't find weather details for '{location}'. Please try another location.\"\n",
    "\n",
    "        latitude = geocode_data[\"results\"][0][\"latitude\"]\n",
    "        longitude = geocode_data[\"results\"][0][\"longitude\"]\n",
    "        location_name = geocode_data[\"results\"][0][\"name\"]\n",
    "\n",
    "        # Fetch weather details\n",
    "        weather_url = f\"https://api.open-meteo.com/v1/forecast?latitude={latitude}&longitude={longitude}&current_weather=true\"\n",
    "        weather_response = requests.get(weather_url)\n",
    "        weather_response.raise_for_status()\n",
    "        weather_data = weather_response.json()\n",
    "\n",
    "        if \"current_weather\" in weather_data:\n",
    "            current_weather = weather_data[\"current_weather\"]\n",
    "            temperature = current_weather[\"temperature\"]\n",
    "            windspeed = current_weather[\"windspeed\"]\n",
    "            weather_code = current_weather.get(\"weathercode\", -1)\n",
    "\n",
    "            weather_conditions = {\n",
    "                0: \"Clear sky\",\n",
    "                1: \"Mainly clear\",\n",
    "                2: \"Partly cloudy\",\n",
    "                3: \"Overcast\",\n",
    "                45: \"Foggy\",\n",
    "                48: \"Depositing rime fog\",\n",
    "                51: \"Light drizzle\",\n",
    "                53: \"Moderate drizzle\",\n",
    "                55: \"Dense drizzle\",\n",
    "                61: \"Slight rain\",\n",
    "                63: \"Moderate rain\",\n",
    "                65: \"Heavy rain\",\n",
    "                71: \"Slight snow\",\n",
    "                73: \"Moderate snow\",\n",
    "                75: \"Heavy snow\",\n",
    "                80: \"Rain showers\",\n",
    "                81: \"Moderate rain showers\",\n",
    "                82: \"Heavy rain showers\",\n",
    "                95: \"Thunderstorm\",\n",
    "                96: \"Thunderstorm with hail\",\n",
    "            }\n",
    "            weather_description = weather_conditions.get(weather_code, \"Unknown conditions\")\n",
    "\n",
    "            temperature_description = (\n",
    "                \"hot\" if temperature > 30 else \"cold\" if temperature < 15 else \"moderate\"\n",
    "            )\n",
    "\n",
    "            return (f\"The current weather in {location_name} is {weather_description} with a temperature of \"\n",
    "                    f\"{temperature}°C ({temperature_description}) and a windspeed of {windspeed} km/h.\")\n",
    "        else:\n",
    "            return \"Sorry, I couldn't fetch the weather details at this time.\"\n",
    "\n",
    "    except requests.exceptions.RequestException as e:\n",
    "        return f\"An error occurred while fetching weather data: {e}\"\n",
    "\n",
    "def handle_weather(user_input):\n",
    "    \"\"\"\n",
    "    Handles weather-related queries interactively with the user.\n",
    "    \"\"\"\n",
    "    global current_functionality, conversation_context\n",
    "\n",
    "    # Directly fetch weather if functionality is already set to 'weather'\n",
    "    if current_functionality == \"weather\":\n",
    "        if user_input.lower() == \"exit\":\n",
    "            current_functionality = None\n",
    "            return \"Exited the weather functionality. How can I assist you next?\"\n",
    "        return fetch_weather(user_input.strip())\n",
    "\n",
    "    # Detect if location is already mentioned in the first input\n",
    "    if user_input.lower() in [\"weather\", \"weather update\", \"what's the weather outside\"]:\n",
    "        current_functionality = \"weather\"\n",
    "        return \"For which location would you like to get the weather?\"\n",
    "\n",
    "    # Assume the user input is a location on the first call\n",
    "    current_functionality = \"weather\"\n",
    "    return fetch_weather(user_input.strip())\n",
    "\n",
    "\n"
   ]
  },
  {
   "cell_type": "code",
   "execution_count": 5,
   "metadata": {},
   "outputs": [],
   "source": [
    "current_functionality = None\n",
    "conversation_context = {}\n"
   ]
  },
  {
   "cell_type": "code",
   "execution_count": 8,
   "metadata": {},
   "outputs": [
    {
     "name": "stdout",
     "output_type": "stream",
     "text": [
      "{'results': [{'id': 5128581, 'name': 'New York', 'latitude': 40.71427, 'longitude': -74.00597, 'elevation': 10.0, 'feature_code': 'PPL', 'country_code': 'US', 'admin1_id': 5128638, 'timezone': 'America/New_York', 'population': 8175133, 'postcodes': ['10001', '10002', '10003', '10004', '10005', '10006', '10007', '10008', '10009', '10010', '10011', '10012', '10013', '10014', '10016', '10017', '10018', '10019', '10020', '10021', '10022', '10023', '10024', '10025', '10026', '10027', '10028', '10029', '10030', '10031', '10032', '10033', '10034', '10035', '10036', '10037', '10038', '10039', '10040', '10041', '10043', '10044', '10045', '10055', '10060', '10065', '10069', '10080', '10081', '10087', '10090', '10101', '10102', '10103', '10104', '10105', '10106', '10107', '10108', '10109', '10110', '10111', '10112', '10113', '10114', '10115', '10116', '10117', '10118', '10119', '10120', '10121', '10122', '10123', '10124', '10125', '10126', '10128', '10129', '10130', '10131', '10132', '10133', '10138', '10150', '10151', '10152', '10153', '10154', '10155', '10156', '10157', '10158', '10159', '10160', '10161', '10162', '10163', '10164', '10165', '10166', '10167', '10168', '10169', '10170', '10171', '10172', '10173', '10174', '10175', '10176', '10177', '10178', '10179', '10185', '10199', '10203', '10211', '10212', '10213', '10242', '10249', '10256', '10258', '10259', '10260', '10261', '10265', '10268', '10269', '10270', '10271', '10272', '10273', '10274', '10275', '10276', '10277', '10278', '10279', '10280', '10281', '10282', '10285', '10286'], 'country_id': 6252001, 'country': 'United States', 'admin1': 'New York'}, {'id': 5082331, 'name': 'York', 'latitude': 40.86807, 'longitude': -97.592, 'elevation': 488.0, 'feature_code': 'PPLA2', 'country_code': 'US', 'admin1_id': 5073708, 'admin2_id': 5082335, 'admin3_id': 7317456, 'timezone': 'America/Chicago', 'population': 7864, 'postcodes': ['68467'], 'country_id': 6252001, 'country': 'United States', 'admin1': 'Nebraska', 'admin2': 'York', 'admin3': 'City of York'}, {'id': 5248969, 'name': 'Clinton', 'latitude': 42.55779, 'longitude': -88.86511, 'elevation': 293.0, 'feature_code': 'PPL', 'country_code': 'US', 'admin1_id': 5279468, 'admin2_id': 5269209, 'admin3_id': 5248984, 'timezone': 'America/Chicago', 'population': 2140, 'postcodes': ['53525'], 'country_id': 6252001, 'country': 'United States', 'admin1': 'Wisconsin', 'admin2': 'Rock', 'admin3': 'Village of Clinton'}, {'id': 4257559, 'name': 'Florence', 'latitude': 38.78423, 'longitude': -84.92439, 'elevation': 145.0, 'feature_code': 'PPL', 'country_code': 'US', 'admin1_id': 4921868, 'admin2_id': 4265618, 'admin3_id': 4267282, 'timezone': 'America/Indiana/Vevay', 'population': 80, 'postcodes': ['47020'], 'country_id': 6252001, 'country': 'United States', 'admin1': 'Indiana', 'admin2': 'Switzerland', 'admin3': 'York Township'}, {'id': 2641508, 'name': 'New York', 'latitude': 53.07897, 'longitude': -0.14008, 'elevation': 7.0, 'feature_code': 'PPL', 'country_code': 'GB', 'admin1_id': 6269131, 'admin3_id': 7290589, 'admin4_id': 7298672, 'timezone': 'Europe/London', 'country_id': 2635167, 'country': 'United Kingdom', 'admin1': 'England', 'admin3': 'East Lindsey District', 'admin4': 'Wildmore'}, {'id': 3489274, 'name': 'New York', 'latitude': 18.25, 'longitude': -77.18333, 'elevation': 579.0, 'feature_code': 'PPL', 'country_code': 'JM', 'admin1_id': 3488715, 'admin2_id': 11495178, 'timezone': 'America/Jamaica', 'country_id': 3489940, 'country': 'Jamaica', 'admin1': 'Parish of Saint Ann', 'admin2': 'Moneague'}, {'id': 3489275, 'name': 'New York', 'latitude': 18.11667, 'longitude': -77.13333, 'elevation': 438.0, 'feature_code': 'PPL', 'country_code': 'JM', 'admin1_id': 3488711, 'admin2_id': 11495047, 'timezone': 'America/Jamaica', 'country_id': 3489940, 'country': 'Jamaica', 'admin1': 'Saint Catherine', 'admin2': 'Ewarton'}, {'id': 4049286, 'name': 'New York', 'latitude': 39.68529, 'longitude': -93.92688, 'elevation': 244.0, 'feature_code': 'PPL', 'country_code': 'US', 'admin1_id': 4398678, 'admin2_id': 4379520, 'admin3_id': 4400518, 'timezone': 'America/Chicago', 'country_id': 6252001, 'country': 'United States', 'admin1': 'Missouri', 'admin2': 'Caldwell', 'admin3': 'New York Township'}, {'id': 4165941, 'name': 'New York', 'latitude': 30.83852, 'longitude': -87.2008, 'elevation': 70.0, 'feature_code': 'PPL', 'country_code': 'US', 'admin1_id': 4155751, 'admin2_id': 4172096, 'timezone': 'America/Chicago', 'country_id': 6252001, 'country': 'United States', 'admin1': 'Florida', 'admin2': 'Santa Rosa'}, {'id': 4302486, 'name': 'New York', 'latitude': 36.98894, 'longitude': -88.95256, 'elevation': 140.0, 'feature_code': 'PPL', 'country_code': 'US', 'admin1_id': 6254925, 'admin2_id': 4283067, 'timezone': 'America/Chicago', 'country_id': 6252001, 'country': 'United States', 'admin1': 'Kentucky', 'admin2': 'Ballard'}], 'generationtime_ms': 2.086997}\n",
      "The current weather in New York is Clear sky with a temperature of 10.6°C (cold) and a windspeed of 21.8 km/h.\n"
     ]
    }
   ],
   "source": [
    "location = \"New York\"  # Change this to any city\n",
    "print(fetch_weather(location))\n"
   ]
  }
 ],
 "metadata": {
  "kernelspec": {
   "display_name": "env1",
   "language": "python",
   "name": "python3"
  },
  "language_info": {
   "codemirror_mode": {
    "name": "ipython",
    "version": 3
   },
   "file_extension": ".py",
   "mimetype": "text/x-python",
   "name": "python",
   "nbconvert_exporter": "python",
   "pygments_lexer": "ipython3",
   "version": "3.9.19"
  }
 },
 "nbformat": 4,
 "nbformat_minor": 2
}
